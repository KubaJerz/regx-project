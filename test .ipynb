{
 "cells": [
  {
   "cell_type": "code",
   "execution_count": 1,
   "metadata": {},
   "outputs": [],
   "source": [
    "from tree import Tree"
   ]
  },
  {
   "cell_type": "code",
   "execution_count": 2,
   "metadata": {},
   "outputs": [],
   "source": [
    "tree = Tree()"
   ]
  },
  {
   "cell_type": "code",
   "execution_count": 3,
   "metadata": {},
   "outputs": [],
   "source": [
    "expr = \"ab+cd++\""
   ]
  },
  {
   "cell_type": "code",
   "execution_count": 4,
   "metadata": {},
   "outputs": [],
   "source": [
    "tree.build_tree_from_postfix(expr)\n",
    "post_fix_tree = tree.get_Tree()"
   ]
  },
  {
   "cell_type": "code",
   "execution_count": 5,
   "metadata": {},
   "outputs": [
    {
     "name": "stdout",
     "output_type": "stream",
     "text": [
      "+\n",
      "\t+\n",
      "\t\td\n",
      "\t\tc\n",
      "\t+\n",
      "\t\tb\n",
      "\t\ta\n",
      "\n"
     ]
    }
   ],
   "source": [
    "print(post_fix_tree)"
   ]
  },
  {
   "cell_type": "code",
   "execution_count": 11,
   "metadata": {},
   "outputs": [],
   "source": [
    "import argparse"
   ]
  },
  {
   "cell_type": "code",
   "execution_count": 23,
   "metadata": {},
   "outputs": [
    {
     "data": {
      "text/plain": [
       "Namespace(foo=True)"
      ]
     },
     "execution_count": 23,
     "metadata": {},
     "output_type": "execute_result"
    }
   ],
   "source": [
    "\n",
    "\n",
    "parser = argparse.ArgumentParser(prog='PROG')\n",
    "\n",
    "parser.add_argument('-f', '--foo', action='store_true')\n",
    "# parser.add_argument('fbar')\n",
    "\n",
    "# parser.add_argument('bar')\n",
    "\n",
    "\n",
    "parser.parse_args(['--foo'])\n",
    "# # Namespace(bar='BAR', foo=None)\n",
    "\n",
    "# parser.parse_args(['BAR', '--foo', 'FOO'])\n",
    "# # Namespace(bar='BAR', foo='FOO')\n",
    "\n",
    "# parser.parse_args(['--foo', 'FOO'])"
   ]
  }
 ],
 "metadata": {
  "kernelspec": {
   "display_name": "base",
   "language": "python",
   "name": "python3"
  },
  "language_info": {
   "codemirror_mode": {
    "name": "ipython",
    "version": 3
   },
   "file_extension": ".py",
   "mimetype": "text/x-python",
   "name": "python",
   "nbconvert_exporter": "python",
   "pygments_lexer": "ipython3",
   "version": "3.12.3"
  }
 },
 "nbformat": 4,
 "nbformat_minor": 2
}
